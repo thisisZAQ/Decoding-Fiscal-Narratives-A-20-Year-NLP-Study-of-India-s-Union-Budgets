{
  "nbformat": 4,
  "nbformat_minor": 0,
  "metadata": {
    "colab": {
      "provenance": [],
      "authorship_tag": "ABX9TyOMC1QDlvR/CUhbDRNMyQZ6",
      "include_colab_link": true
    },
    "kernelspec": {
      "name": "python3",
      "display_name": "Python 3"
    },
    "language_info": {
      "name": "python"
    }
  },
  "cells": [
    {
      "cell_type": "markdown",
      "metadata": {
        "id": "view-in-github",
        "colab_type": "text"
      },
      "source": [
        "<a href=\"https://colab.research.google.com/github/thisisZAQ/Decoding-Fiscal-Narratives-A-20-Year-NLP-Study-of-India-s-Union-Budgets/blob/main/Budget_Speeches.ipynb\" target=\"_parent\"><img src=\"https://colab.research.google.com/assets/colab-badge.svg\" alt=\"Open In Colab\"/></a>"
      ]
    },
    {
      "cell_type": "markdown",
      "source": [
        "# **start here**"
      ],
      "metadata": {
        "id": "oMV-FDmc56FR"
      }
    },
    {
      "cell_type": "code",
      "source": [
        "import pandas as pd\n",
        "import matplotlib.pyplot as plt\n",
        "import seaborn as sns\n",
        "import plotly.express as px\n",
        "\n",
        "\n",
        "# Load the CSV file\n",
        "file_path = '/content/Speech_20years.csv'  # Replace with your file path\n",
        "df = pd.read_csv(file_path)\n",
        "\n",
        "# Clean the column names by stripping extra spaces\n",
        "df.columns = df.columns.str.strip()\n",
        "\n",
        "# Drop rows with missing speech data and group by Year and Finance Minister\n",
        "df_cleaned = df[['Year', 'Minister', 'Speech']].dropna()\n",
        "df_grouped = df_cleaned.groupby(['Year', 'Minister'])['Speech'].apply(lambda x: ' '.join(x)).reset_index()\n",
        "\n"
      ],
      "metadata": {
        "id": "jjZLkDEoUG2e",
        "colab": {
          "base_uri": "https://localhost:8080/"
        },
        "collapsed": true,
        "outputId": "7634aa43-55b5-4717-c94f-6aaa86f7005f"
      },
      "execution_count": 40,
      "outputs": [
        {
          "output_type": "stream",
          "name": "stderr",
          "text": [
            "/usr/local/lib/python3.10/dist-packages/ipykernel/ipkernel.py:283: DeprecationWarning:\n",
            "\n",
            "`should_run_async` will not call `transform_cell` automatically in the future. Please pass the result to `transformed_cell` argument and any exception that happen during thetransform in `preprocessing_exc_tuple` in IPython 7.17 and above.\n",
            "\n"
          ]
        }
      ]
    },
    {
      "cell_type": "code",
      "source": [
        "# Calculate the length of each speech in words\n",
        "df_grouped['Speech Length'] = df_grouped['Speech'].apply(lambda x: len(x.split()))\n",
        "\n",
        "# Group by Finance Minister and calculate the total speech length for each minister\n",
        "speech_length_by_minister = df_grouped.groupby('Minister')['Speech Length'].sum().reset_index()\n",
        "\n",
        "# Sort by speech length for better visualization\n",
        "speech_length_by_minister = speech_length_by_minister.sort_values(by='Speech Length', ascending=False)\n",
        "\n",
        "# Display the results\n",
        "speech_length_by_minister.head()\n"
      ],
      "metadata": {
        "colab": {
          "base_uri": "https://localhost:8080/",
          "height": 266
        },
        "id": "Wx6EVYi4aRTa",
        "outputId": "bfc233bd-8d44-4b00-b324-7f643819ca4e"
      },
      "execution_count": 41,
      "outputs": [
        {
          "output_type": "stream",
          "name": "stderr",
          "text": [
            "/usr/local/lib/python3.10/dist-packages/ipykernel/ipkernel.py:283: DeprecationWarning:\n",
            "\n",
            "`should_run_async` will not call `transform_cell` automatically in the future. Please pass the result to `transformed_cell` argument and any exception that happen during thetransform in `preprocessing_exc_tuple` in IPython 7.17 and above.\n",
            "\n"
          ]
        },
        {
          "output_type": "execute_result",
          "data": {
            "text/plain": [
              "             Minister  Speech Length\n",
              "2      P. Chidambaram          77121\n",
              "0        Arun Jaitley          71043\n",
              "1  Nirmala Sitharaman          59046\n",
              "3    Pranab Mukherjee          51514"
            ],
            "text/html": [
              "\n",
              "  <div id=\"df-a89d1b3c-3719-4bfd-affc-c7d77209470d\" class=\"colab-df-container\">\n",
              "    <div>\n",
              "<style scoped>\n",
              "    .dataframe tbody tr th:only-of-type {\n",
              "        vertical-align: middle;\n",
              "    }\n",
              "\n",
              "    .dataframe tbody tr th {\n",
              "        vertical-align: top;\n",
              "    }\n",
              "\n",
              "    .dataframe thead th {\n",
              "        text-align: right;\n",
              "    }\n",
              "</style>\n",
              "<table border=\"1\" class=\"dataframe\">\n",
              "  <thead>\n",
              "    <tr style=\"text-align: right;\">\n",
              "      <th></th>\n",
              "      <th>Minister</th>\n",
              "      <th>Speech Length</th>\n",
              "    </tr>\n",
              "  </thead>\n",
              "  <tbody>\n",
              "    <tr>\n",
              "      <th>2</th>\n",
              "      <td>P. Chidambaram</td>\n",
              "      <td>77121</td>\n",
              "    </tr>\n",
              "    <tr>\n",
              "      <th>0</th>\n",
              "      <td>Arun Jaitley</td>\n",
              "      <td>71043</td>\n",
              "    </tr>\n",
              "    <tr>\n",
              "      <th>1</th>\n",
              "      <td>Nirmala Sitharaman</td>\n",
              "      <td>59046</td>\n",
              "    </tr>\n",
              "    <tr>\n",
              "      <th>3</th>\n",
              "      <td>Pranab Mukherjee</td>\n",
              "      <td>51514</td>\n",
              "    </tr>\n",
              "  </tbody>\n",
              "</table>\n",
              "</div>\n",
              "    <div class=\"colab-df-buttons\">\n",
              "\n",
              "  <div class=\"colab-df-container\">\n",
              "    <button class=\"colab-df-convert\" onclick=\"convertToInteractive('df-a89d1b3c-3719-4bfd-affc-c7d77209470d')\"\n",
              "            title=\"Convert this dataframe to an interactive table.\"\n",
              "            style=\"display:none;\">\n",
              "\n",
              "  <svg xmlns=\"http://www.w3.org/2000/svg\" height=\"24px\" viewBox=\"0 -960 960 960\">\n",
              "    <path d=\"M120-120v-720h720v720H120Zm60-500h600v-160H180v160Zm220 220h160v-160H400v160Zm0 220h160v-160H400v160ZM180-400h160v-160H180v160Zm440 0h160v-160H620v160ZM180-180h160v-160H180v160Zm440 0h160v-160H620v160Z\"/>\n",
              "  </svg>\n",
              "    </button>\n",
              "\n",
              "  <style>\n",
              "    .colab-df-container {\n",
              "      display:flex;\n",
              "      gap: 12px;\n",
              "    }\n",
              "\n",
              "    .colab-df-convert {\n",
              "      background-color: #E8F0FE;\n",
              "      border: none;\n",
              "      border-radius: 50%;\n",
              "      cursor: pointer;\n",
              "      display: none;\n",
              "      fill: #1967D2;\n",
              "      height: 32px;\n",
              "      padding: 0 0 0 0;\n",
              "      width: 32px;\n",
              "    }\n",
              "\n",
              "    .colab-df-convert:hover {\n",
              "      background-color: #E2EBFA;\n",
              "      box-shadow: 0px 1px 2px rgba(60, 64, 67, 0.3), 0px 1px 3px 1px rgba(60, 64, 67, 0.15);\n",
              "      fill: #174EA6;\n",
              "    }\n",
              "\n",
              "    .colab-df-buttons div {\n",
              "      margin-bottom: 4px;\n",
              "    }\n",
              "\n",
              "    [theme=dark] .colab-df-convert {\n",
              "      background-color: #3B4455;\n",
              "      fill: #D2E3FC;\n",
              "    }\n",
              "\n",
              "    [theme=dark] .colab-df-convert:hover {\n",
              "      background-color: #434B5C;\n",
              "      box-shadow: 0px 1px 3px 1px rgba(0, 0, 0, 0.15);\n",
              "      filter: drop-shadow(0px 1px 2px rgba(0, 0, 0, 0.3));\n",
              "      fill: #FFFFFF;\n",
              "    }\n",
              "  </style>\n",
              "\n",
              "    <script>\n",
              "      const buttonEl =\n",
              "        document.querySelector('#df-a89d1b3c-3719-4bfd-affc-c7d77209470d button.colab-df-convert');\n",
              "      buttonEl.style.display =\n",
              "        google.colab.kernel.accessAllowed ? 'block' : 'none';\n",
              "\n",
              "      async function convertToInteractive(key) {\n",
              "        const element = document.querySelector('#df-a89d1b3c-3719-4bfd-affc-c7d77209470d');\n",
              "        const dataTable =\n",
              "          await google.colab.kernel.invokeFunction('convertToInteractive',\n",
              "                                                    [key], {});\n",
              "        if (!dataTable) return;\n",
              "\n",
              "        const docLinkHtml = 'Like what you see? Visit the ' +\n",
              "          '<a target=\"_blank\" href=https://colab.research.google.com/notebooks/data_table.ipynb>data table notebook</a>'\n",
              "          + ' to learn more about interactive tables.';\n",
              "        element.innerHTML = '';\n",
              "        dataTable['output_type'] = 'display_data';\n",
              "        await google.colab.output.renderOutput(dataTable, element);\n",
              "        const docLink = document.createElement('div');\n",
              "        docLink.innerHTML = docLinkHtml;\n",
              "        element.appendChild(docLink);\n",
              "      }\n",
              "    </script>\n",
              "  </div>\n",
              "\n",
              "\n",
              "<div id=\"df-80049d9e-426b-481c-992a-28b3215ba326\">\n",
              "  <button class=\"colab-df-quickchart\" onclick=\"quickchart('df-80049d9e-426b-481c-992a-28b3215ba326')\"\n",
              "            title=\"Suggest charts\"\n",
              "            style=\"display:none;\">\n",
              "\n",
              "<svg xmlns=\"http://www.w3.org/2000/svg\" height=\"24px\"viewBox=\"0 0 24 24\"\n",
              "     width=\"24px\">\n",
              "    <g>\n",
              "        <path d=\"M19 3H5c-1.1 0-2 .9-2 2v14c0 1.1.9 2 2 2h14c1.1 0 2-.9 2-2V5c0-1.1-.9-2-2-2zM9 17H7v-7h2v7zm4 0h-2V7h2v10zm4 0h-2v-4h2v4z\"/>\n",
              "    </g>\n",
              "</svg>\n",
              "  </button>\n",
              "\n",
              "<style>\n",
              "  .colab-df-quickchart {\n",
              "      --bg-color: #E8F0FE;\n",
              "      --fill-color: #1967D2;\n",
              "      --hover-bg-color: #E2EBFA;\n",
              "      --hover-fill-color: #174EA6;\n",
              "      --disabled-fill-color: #AAA;\n",
              "      --disabled-bg-color: #DDD;\n",
              "  }\n",
              "\n",
              "  [theme=dark] .colab-df-quickchart {\n",
              "      --bg-color: #3B4455;\n",
              "      --fill-color: #D2E3FC;\n",
              "      --hover-bg-color: #434B5C;\n",
              "      --hover-fill-color: #FFFFFF;\n",
              "      --disabled-bg-color: #3B4455;\n",
              "      --disabled-fill-color: #666;\n",
              "  }\n",
              "\n",
              "  .colab-df-quickchart {\n",
              "    background-color: var(--bg-color);\n",
              "    border: none;\n",
              "    border-radius: 50%;\n",
              "    cursor: pointer;\n",
              "    display: none;\n",
              "    fill: var(--fill-color);\n",
              "    height: 32px;\n",
              "    padding: 0;\n",
              "    width: 32px;\n",
              "  }\n",
              "\n",
              "  .colab-df-quickchart:hover {\n",
              "    background-color: var(--hover-bg-color);\n",
              "    box-shadow: 0 1px 2px rgba(60, 64, 67, 0.3), 0 1px 3px 1px rgba(60, 64, 67, 0.15);\n",
              "    fill: var(--button-hover-fill-color);\n",
              "  }\n",
              "\n",
              "  .colab-df-quickchart-complete:disabled,\n",
              "  .colab-df-quickchart-complete:disabled:hover {\n",
              "    background-color: var(--disabled-bg-color);\n",
              "    fill: var(--disabled-fill-color);\n",
              "    box-shadow: none;\n",
              "  }\n",
              "\n",
              "  .colab-df-spinner {\n",
              "    border: 2px solid var(--fill-color);\n",
              "    border-color: transparent;\n",
              "    border-bottom-color: var(--fill-color);\n",
              "    animation:\n",
              "      spin 1s steps(1) infinite;\n",
              "  }\n",
              "\n",
              "  @keyframes spin {\n",
              "    0% {\n",
              "      border-color: transparent;\n",
              "      border-bottom-color: var(--fill-color);\n",
              "      border-left-color: var(--fill-color);\n",
              "    }\n",
              "    20% {\n",
              "      border-color: transparent;\n",
              "      border-left-color: var(--fill-color);\n",
              "      border-top-color: var(--fill-color);\n",
              "    }\n",
              "    30% {\n",
              "      border-color: transparent;\n",
              "      border-left-color: var(--fill-color);\n",
              "      border-top-color: var(--fill-color);\n",
              "      border-right-color: var(--fill-color);\n",
              "    }\n",
              "    40% {\n",
              "      border-color: transparent;\n",
              "      border-right-color: var(--fill-color);\n",
              "      border-top-color: var(--fill-color);\n",
              "    }\n",
              "    60% {\n",
              "      border-color: transparent;\n",
              "      border-right-color: var(--fill-color);\n",
              "    }\n",
              "    80% {\n",
              "      border-color: transparent;\n",
              "      border-right-color: var(--fill-color);\n",
              "      border-bottom-color: var(--fill-color);\n",
              "    }\n",
              "    90% {\n",
              "      border-color: transparent;\n",
              "      border-bottom-color: var(--fill-color);\n",
              "    }\n",
              "  }\n",
              "</style>\n",
              "\n",
              "  <script>\n",
              "    async function quickchart(key) {\n",
              "      const quickchartButtonEl =\n",
              "        document.querySelector('#' + key + ' button');\n",
              "      quickchartButtonEl.disabled = true;  // To prevent multiple clicks.\n",
              "      quickchartButtonEl.classList.add('colab-df-spinner');\n",
              "      try {\n",
              "        const charts = await google.colab.kernel.invokeFunction(\n",
              "            'suggestCharts', [key], {});\n",
              "      } catch (error) {\n",
              "        console.error('Error during call to suggestCharts:', error);\n",
              "      }\n",
              "      quickchartButtonEl.classList.remove('colab-df-spinner');\n",
              "      quickchartButtonEl.classList.add('colab-df-quickchart-complete');\n",
              "    }\n",
              "    (() => {\n",
              "      let quickchartButtonEl =\n",
              "        document.querySelector('#df-80049d9e-426b-481c-992a-28b3215ba326 button');\n",
              "      quickchartButtonEl.style.display =\n",
              "        google.colab.kernel.accessAllowed ? 'block' : 'none';\n",
              "    })();\n",
              "  </script>\n",
              "</div>\n",
              "\n",
              "    </div>\n",
              "  </div>\n"
            ],
            "application/vnd.google.colaboratory.intrinsic+json": {
              "type": "dataframe",
              "variable_name": "speech_length_by_minister",
              "summary": "{\n  \"name\": \"speech_length_by_minister\",\n  \"rows\": 4,\n  \"fields\": [\n    {\n      \"column\": \"Minister\",\n      \"properties\": {\n        \"dtype\": \"string\",\n        \"num_unique_values\": 4,\n        \"samples\": [\n          \"Arun Jaitley\",\n          \"Pranab Mukherjee\",\n          \"P. Chidambaram\"\n        ],\n        \"semantic_type\": \"\",\n        \"description\": \"\"\n      }\n    },\n    {\n      \"column\": \"Speech Length\",\n      \"properties\": {\n        \"dtype\": \"number\",\n        \"std\": 11552,\n        \"min\": 51514,\n        \"max\": 77121,\n        \"num_unique_values\": 4,\n        \"samples\": [\n          71043,\n          51514,\n          77121\n        ],\n        \"semantic_type\": \"\",\n        \"description\": \"\"\n      }\n    }\n  ]\n}"
            }
          },
          "metadata": {},
          "execution_count": 41
        }
      ]
    },
    {
      "cell_type": "code",
      "source": [],
      "metadata": {
        "id": "ARi2pvR7Ty6G",
        "colab": {
          "base_uri": "https://localhost:8080/"
        },
        "outputId": "2ec69262-fba9-4496-f25d-eec746114268"
      },
      "execution_count": 41,
      "outputs": [
        {
          "output_type": "stream",
          "name": "stderr",
          "text": [
            "/usr/local/lib/python3.10/dist-packages/ipykernel/ipkernel.py:283: DeprecationWarning:\n",
            "\n",
            "`should_run_async` will not call `transform_cell` automatically in the future. Please pass the result to `transformed_cell` argument and any exception that happen during thetransform in `preprocessing_exc_tuple` in IPython 7.17 and above.\n",
            "\n"
          ]
        }
      ]
    },
    {
      "cell_type": "code",
      "source": [
        "# Calculate the length of each speech in words\n",
        "df_grouped['Speech Length'] = df_grouped['Speech'].apply(lambda x: len(x.split()))\n",
        "\n",
        "# Group by Finance Minister and calculate the total speech length for each minister\n",
        "speech_length_by_minister = df_grouped.groupby('Minister')['Speech Length'].sum().reset_index()\n",
        "\n",
        "# Sort by speech length for better visualization\n",
        "speech_length_by_minister = speech_length_by_minister.sort_values(by='Speech Length', ascending=False)\n",
        "\n",
        "# Display the results\n",
        "speech_length_by_minister.head()\n",
        "\n",
        "df_grouped.tail()\n",
        "speech_length_by_minister.head()\n"
      ],
      "metadata": {
        "colab": {
          "base_uri": "https://localhost:8080/",
          "height": 266
        },
        "id": "IpsvF2DxUvaB",
        "outputId": "3e51ed7b-1e23-43d1-9a7d-8540bdbc34e7"
      },
      "execution_count": 42,
      "outputs": [
        {
          "output_type": "stream",
          "name": "stderr",
          "text": [
            "/usr/local/lib/python3.10/dist-packages/ipykernel/ipkernel.py:283: DeprecationWarning:\n",
            "\n",
            "`should_run_async` will not call `transform_cell` automatically in the future. Please pass the result to `transformed_cell` argument and any exception that happen during thetransform in `preprocessing_exc_tuple` in IPython 7.17 and above.\n",
            "\n"
          ]
        },
        {
          "output_type": "execute_result",
          "data": {
            "text/plain": [
              "             Minister  Speech Length\n",
              "2      P. Chidambaram          77121\n",
              "0        Arun Jaitley          71043\n",
              "1  Nirmala Sitharaman          59046\n",
              "3    Pranab Mukherjee          51514"
            ],
            "text/html": [
              "\n",
              "  <div id=\"df-540d2958-0b15-4a2e-b8b6-404f585c7cdd\" class=\"colab-df-container\">\n",
              "    <div>\n",
              "<style scoped>\n",
              "    .dataframe tbody tr th:only-of-type {\n",
              "        vertical-align: middle;\n",
              "    }\n",
              "\n",
              "    .dataframe tbody tr th {\n",
              "        vertical-align: top;\n",
              "    }\n",
              "\n",
              "    .dataframe thead th {\n",
              "        text-align: right;\n",
              "    }\n",
              "</style>\n",
              "<table border=\"1\" class=\"dataframe\">\n",
              "  <thead>\n",
              "    <tr style=\"text-align: right;\">\n",
              "      <th></th>\n",
              "      <th>Minister</th>\n",
              "      <th>Speech Length</th>\n",
              "    </tr>\n",
              "  </thead>\n",
              "  <tbody>\n",
              "    <tr>\n",
              "      <th>2</th>\n",
              "      <td>P. Chidambaram</td>\n",
              "      <td>77121</td>\n",
              "    </tr>\n",
              "    <tr>\n",
              "      <th>0</th>\n",
              "      <td>Arun Jaitley</td>\n",
              "      <td>71043</td>\n",
              "    </tr>\n",
              "    <tr>\n",
              "      <th>1</th>\n",
              "      <td>Nirmala Sitharaman</td>\n",
              "      <td>59046</td>\n",
              "    </tr>\n",
              "    <tr>\n",
              "      <th>3</th>\n",
              "      <td>Pranab Mukherjee</td>\n",
              "      <td>51514</td>\n",
              "    </tr>\n",
              "  </tbody>\n",
              "</table>\n",
              "</div>\n",
              "    <div class=\"colab-df-buttons\">\n",
              "\n",
              "  <div class=\"colab-df-container\">\n",
              "    <button class=\"colab-df-convert\" onclick=\"convertToInteractive('df-540d2958-0b15-4a2e-b8b6-404f585c7cdd')\"\n",
              "            title=\"Convert this dataframe to an interactive table.\"\n",
              "            style=\"display:none;\">\n",
              "\n",
              "  <svg xmlns=\"http://www.w3.org/2000/svg\" height=\"24px\" viewBox=\"0 -960 960 960\">\n",
              "    <path d=\"M120-120v-720h720v720H120Zm60-500h600v-160H180v160Zm220 220h160v-160H400v160Zm0 220h160v-160H400v160ZM180-400h160v-160H180v160Zm440 0h160v-160H620v160ZM180-180h160v-160H180v160Zm440 0h160v-160H620v160Z\"/>\n",
              "  </svg>\n",
              "    </button>\n",
              "\n",
              "  <style>\n",
              "    .colab-df-container {\n",
              "      display:flex;\n",
              "      gap: 12px;\n",
              "    }\n",
              "\n",
              "    .colab-df-convert {\n",
              "      background-color: #E8F0FE;\n",
              "      border: none;\n",
              "      border-radius: 50%;\n",
              "      cursor: pointer;\n",
              "      display: none;\n",
              "      fill: #1967D2;\n",
              "      height: 32px;\n",
              "      padding: 0 0 0 0;\n",
              "      width: 32px;\n",
              "    }\n",
              "\n",
              "    .colab-df-convert:hover {\n",
              "      background-color: #E2EBFA;\n",
              "      box-shadow: 0px 1px 2px rgba(60, 64, 67, 0.3), 0px 1px 3px 1px rgba(60, 64, 67, 0.15);\n",
              "      fill: #174EA6;\n",
              "    }\n",
              "\n",
              "    .colab-df-buttons div {\n",
              "      margin-bottom: 4px;\n",
              "    }\n",
              "\n",
              "    [theme=dark] .colab-df-convert {\n",
              "      background-color: #3B4455;\n",
              "      fill: #D2E3FC;\n",
              "    }\n",
              "\n",
              "    [theme=dark] .colab-df-convert:hover {\n",
              "      background-color: #434B5C;\n",
              "      box-shadow: 0px 1px 3px 1px rgba(0, 0, 0, 0.15);\n",
              "      filter: drop-shadow(0px 1px 2px rgba(0, 0, 0, 0.3));\n",
              "      fill: #FFFFFF;\n",
              "    }\n",
              "  </style>\n",
              "\n",
              "    <script>\n",
              "      const buttonEl =\n",
              "        document.querySelector('#df-540d2958-0b15-4a2e-b8b6-404f585c7cdd button.colab-df-convert');\n",
              "      buttonEl.style.display =\n",
              "        google.colab.kernel.accessAllowed ? 'block' : 'none';\n",
              "\n",
              "      async function convertToInteractive(key) {\n",
              "        const element = document.querySelector('#df-540d2958-0b15-4a2e-b8b6-404f585c7cdd');\n",
              "        const dataTable =\n",
              "          await google.colab.kernel.invokeFunction('convertToInteractive',\n",
              "                                                    [key], {});\n",
              "        if (!dataTable) return;\n",
              "\n",
              "        const docLinkHtml = 'Like what you see? Visit the ' +\n",
              "          '<a target=\"_blank\" href=https://colab.research.google.com/notebooks/data_table.ipynb>data table notebook</a>'\n",
              "          + ' to learn more about interactive tables.';\n",
              "        element.innerHTML = '';\n",
              "        dataTable['output_type'] = 'display_data';\n",
              "        await google.colab.output.renderOutput(dataTable, element);\n",
              "        const docLink = document.createElement('div');\n",
              "        docLink.innerHTML = docLinkHtml;\n",
              "        element.appendChild(docLink);\n",
              "      }\n",
              "    </script>\n",
              "  </div>\n",
              "\n",
              "\n",
              "<div id=\"df-43ed5ac3-c7d1-4b2e-81e8-83953970c621\">\n",
              "  <button class=\"colab-df-quickchart\" onclick=\"quickchart('df-43ed5ac3-c7d1-4b2e-81e8-83953970c621')\"\n",
              "            title=\"Suggest charts\"\n",
              "            style=\"display:none;\">\n",
              "\n",
              "<svg xmlns=\"http://www.w3.org/2000/svg\" height=\"24px\"viewBox=\"0 0 24 24\"\n",
              "     width=\"24px\">\n",
              "    <g>\n",
              "        <path d=\"M19 3H5c-1.1 0-2 .9-2 2v14c0 1.1.9 2 2 2h14c1.1 0 2-.9 2-2V5c0-1.1-.9-2-2-2zM9 17H7v-7h2v7zm4 0h-2V7h2v10zm4 0h-2v-4h2v4z\"/>\n",
              "    </g>\n",
              "</svg>\n",
              "  </button>\n",
              "\n",
              "<style>\n",
              "  .colab-df-quickchart {\n",
              "      --bg-color: #E8F0FE;\n",
              "      --fill-color: #1967D2;\n",
              "      --hover-bg-color: #E2EBFA;\n",
              "      --hover-fill-color: #174EA6;\n",
              "      --disabled-fill-color: #AAA;\n",
              "      --disabled-bg-color: #DDD;\n",
              "  }\n",
              "\n",
              "  [theme=dark] .colab-df-quickchart {\n",
              "      --bg-color: #3B4455;\n",
              "      --fill-color: #D2E3FC;\n",
              "      --hover-bg-color: #434B5C;\n",
              "      --hover-fill-color: #FFFFFF;\n",
              "      --disabled-bg-color: #3B4455;\n",
              "      --disabled-fill-color: #666;\n",
              "  }\n",
              "\n",
              "  .colab-df-quickchart {\n",
              "    background-color: var(--bg-color);\n",
              "    border: none;\n",
              "    border-radius: 50%;\n",
              "    cursor: pointer;\n",
              "    display: none;\n",
              "    fill: var(--fill-color);\n",
              "    height: 32px;\n",
              "    padding: 0;\n",
              "    width: 32px;\n",
              "  }\n",
              "\n",
              "  .colab-df-quickchart:hover {\n",
              "    background-color: var(--hover-bg-color);\n",
              "    box-shadow: 0 1px 2px rgba(60, 64, 67, 0.3), 0 1px 3px 1px rgba(60, 64, 67, 0.15);\n",
              "    fill: var(--button-hover-fill-color);\n",
              "  }\n",
              "\n",
              "  .colab-df-quickchart-complete:disabled,\n",
              "  .colab-df-quickchart-complete:disabled:hover {\n",
              "    background-color: var(--disabled-bg-color);\n",
              "    fill: var(--disabled-fill-color);\n",
              "    box-shadow: none;\n",
              "  }\n",
              "\n",
              "  .colab-df-spinner {\n",
              "    border: 2px solid var(--fill-color);\n",
              "    border-color: transparent;\n",
              "    border-bottom-color: var(--fill-color);\n",
              "    animation:\n",
              "      spin 1s steps(1) infinite;\n",
              "  }\n",
              "\n",
              "  @keyframes spin {\n",
              "    0% {\n",
              "      border-color: transparent;\n",
              "      border-bottom-color: var(--fill-color);\n",
              "      border-left-color: var(--fill-color);\n",
              "    }\n",
              "    20% {\n",
              "      border-color: transparent;\n",
              "      border-left-color: var(--fill-color);\n",
              "      border-top-color: var(--fill-color);\n",
              "    }\n",
              "    30% {\n",
              "      border-color: transparent;\n",
              "      border-left-color: var(--fill-color);\n",
              "      border-top-color: var(--fill-color);\n",
              "      border-right-color: var(--fill-color);\n",
              "    }\n",
              "    40% {\n",
              "      border-color: transparent;\n",
              "      border-right-color: var(--fill-color);\n",
              "      border-top-color: var(--fill-color);\n",
              "    }\n",
              "    60% {\n",
              "      border-color: transparent;\n",
              "      border-right-color: var(--fill-color);\n",
              "    }\n",
              "    80% {\n",
              "      border-color: transparent;\n",
              "      border-right-color: var(--fill-color);\n",
              "      border-bottom-color: var(--fill-color);\n",
              "    }\n",
              "    90% {\n",
              "      border-color: transparent;\n",
              "      border-bottom-color: var(--fill-color);\n",
              "    }\n",
              "  }\n",
              "</style>\n",
              "\n",
              "  <script>\n",
              "    async function quickchart(key) {\n",
              "      const quickchartButtonEl =\n",
              "        document.querySelector('#' + key + ' button');\n",
              "      quickchartButtonEl.disabled = true;  // To prevent multiple clicks.\n",
              "      quickchartButtonEl.classList.add('colab-df-spinner');\n",
              "      try {\n",
              "        const charts = await google.colab.kernel.invokeFunction(\n",
              "            'suggestCharts', [key], {});\n",
              "      } catch (error) {\n",
              "        console.error('Error during call to suggestCharts:', error);\n",
              "      }\n",
              "      quickchartButtonEl.classList.remove('colab-df-spinner');\n",
              "      quickchartButtonEl.classList.add('colab-df-quickchart-complete');\n",
              "    }\n",
              "    (() => {\n",
              "      let quickchartButtonEl =\n",
              "        document.querySelector('#df-43ed5ac3-c7d1-4b2e-81e8-83953970c621 button');\n",
              "      quickchartButtonEl.style.display =\n",
              "        google.colab.kernel.accessAllowed ? 'block' : 'none';\n",
              "    })();\n",
              "  </script>\n",
              "</div>\n",
              "\n",
              "    </div>\n",
              "  </div>\n"
            ],
            "application/vnd.google.colaboratory.intrinsic+json": {
              "type": "dataframe",
              "variable_name": "speech_length_by_minister",
              "summary": "{\n  \"name\": \"speech_length_by_minister\",\n  \"rows\": 4,\n  \"fields\": [\n    {\n      \"column\": \"Minister\",\n      \"properties\": {\n        \"dtype\": \"string\",\n        \"num_unique_values\": 4,\n        \"samples\": [\n          \"Arun Jaitley\",\n          \"Pranab Mukherjee\",\n          \"P. Chidambaram\"\n        ],\n        \"semantic_type\": \"\",\n        \"description\": \"\"\n      }\n    },\n    {\n      \"column\": \"Speech Length\",\n      \"properties\": {\n        \"dtype\": \"number\",\n        \"std\": 11552,\n        \"min\": 51514,\n        \"max\": 77121,\n        \"num_unique_values\": 4,\n        \"samples\": [\n          71043,\n          51514,\n          77121\n        ],\n        \"semantic_type\": \"\",\n        \"description\": \"\"\n      }\n    }\n  ]\n}"
            }
          },
          "metadata": {},
          "execution_count": 42
        }
      ]
    },
    {
      "cell_type": "code",
      "source": [
        "plt.figure(figsize=(10, 6))\n",
        "sns.lineplot(x='Year', y='Speech Length', data=df_grouped, marker='o')\n",
        "plt.title('Speech Length Over Time')\n",
        "plt.xlabel('Year')\n",
        "plt.ylabel('Number of Words')\n",
        "plt.xticks(rotation=45)\n",
        "plt.show()"
      ],
      "metadata": {
        "colab": {
          "base_uri": "https://localhost:8080/",
          "height": 692
        },
        "id": "KVBwbpPHKkHl",
        "outputId": "6cda1a5c-722c-48e8-a025-fcccec51a65e"
      },
      "execution_count": 43,
      "outputs": [
        {
          "output_type": "stream",
          "name": "stderr",
          "text": [
            "/usr/local/lib/python3.10/dist-packages/ipykernel/ipkernel.py:283: DeprecationWarning:\n",
            "\n",
            "`should_run_async` will not call `transform_cell` automatically in the future. Please pass the result to `transformed_cell` argument and any exception that happen during thetransform in `preprocessing_exc_tuple` in IPython 7.17 and above.\n",
            "\n"
          ]
        },
        {
          "output_type": "display_data",
          "data": {
            "text/plain": [
              "<Figure size 1000x600 with 1 Axes>"
            ],
            "image/png": "[encoded data removed]"
          },
          "metadata": {}
        }
      ]
    },
    {
      "cell_type": "code",
      "source": [
        "import plotly.express as px\n",
        "\n",
        "# Create the bar plot using Plotly Express\n",
        "fig = px.bar(speech_length_by_minister,\n",
        "             x='Speech Length',\n",
        "             y='Minister',\n",
        "             orientation='h',  # Horizontal bar plot\n",
        "             title='Total Speech Length by Finance Minister',\n",
        "             labels={'Speech Length': 'Speech Length (Word Count)', 'Minister': 'Minister'},\n",
        "             color='Speech Length',  # Color based on speech length\n",
        "             color_continuous_scale='Viridis')\n",
        "\n",
        "# Customize layout (optional)\n",
        "fig.update_layout(\n",
        "    xaxis_title=\"Total Speech Length (Word Count)\",\n",
        "    yaxis_title=\"Finance Minister\",\n",
        "    height=600,\n",
        "    width=900,\n",
        ")\n",
        "\n",
        "# Show the plot\n",
        "fig.show()\n",
        "\n"
      ],
      "metadata": {
        "colab": {
          "base_uri": "https://localhost:8080/",
          "height": 708
        },
        "id": "mTC-13BUUz-U",
        "outputId": "cba1892f-aec1-411d-f87f-3275dcdf7d92"
      },
      "execution_count": 44,
      "outputs": [
        {
          "output_type": "stream",
          "name": "stderr",
          "text": [
            "/usr/local/lib/python3.10/dist-packages/ipykernel/ipkernel.py:283: DeprecationWarning:\n",
            "\n",
            "`should_run_async` will not call `transform_cell` automatically in the future. Please pass the result to `transformed_cell` argument and any exception that happen during thetransform in `preprocessing_exc_tuple` in IPython 7.17 and above.\n",
            "\n"
          ]
        },
        {
          "output_type": "display_data",
          "data": {
            "text/html": [
              "<html>\n",
              "<head><meta charset=\"utf-8\" /></head>\n",
              "<body>\n",
              "    <div>            <script src=\"https://cdnjs.cloudflare.com/ajax/libs/mathjax/2.7.5/MathJax.js?config=TeX-AMS-MML_SVG\"></script><script type=\"text/javascript\">if (window.MathJax && window.MathJax.Hub && window.MathJax.Hub.Config) {window.MathJax.Hub.Config({SVG: {font: \"STIX-Web\"}});}</script>                <script type=\"text/javascript\">window.PlotlyConfig = {MathJaxConfig: 'local'};</script>\n",
              "        <script charset=\"utf-8\" src=\"https://cdn.plot.ly/plotly-2.35.2.min.js\"></script>                <div id=\"2f669265-2d46-410d-8342-e0fda3f06571\" class=\"plotly-graph-div\" style=\"height:600px; width:900px;\"></div>            <script type=\"text/javascript\">                                    window.PLOTLYENV=window.PLOTLYENV || {};                                    if (document.getElementById(\"2f669265-2d46-410d-8342-e0fda3f06571\")) {                    Plotly.newPlot(                        \"2f669265-2d46-410d-8342-e0fda3f06571\",                        [{\"alignmentgroup\":\"True\",\"hovertemplate\":\"Speech Length (Word Count)=%{marker.color}\\u003cbr\\u003eMinister=%{y}\\u003cextra\\u003e\\u003c\\u002fextra\\u003e\",\"legendgroup\":\"\",\"marker\":{\"color\":[77121,71043,59046,51514],\"coloraxis\":\"coloraxis\",\"pattern\":{\"shape\":\"\"}},\"name\":\"\",\"offsetgroup\":\"\",\"orientation\":\"h\",\"showlegend\":false,\"textposition\":\"auto\",\"x\":[77121,71043,59046,51514],\"xaxis\":\"x\",\"y\":[\"P. Chidambaram\",\"Arun Jaitley\",\"Nirmala Sitharaman\",\"Pranab Mukherjee\"],\"yaxis\":\"y\",\"type\":\"bar\"}],                        {\"template\":{\"data\":{\"histogram2dcontour\":[{\"type\":\"histogram2dcontour\",\"colorbar\":{\"outlinewidth\":0,\"ticks\":\"\"},\"colorscale\":[[0.0,\"#0d0887\"],[0.1111111111111111,\"#46039f\"],[0.2222222222222222,\"#7201a8\"],[0.3333333333333333,\"#9c179e\"],[0.4444444444444444,\"#bd3786\"],[0.5555555555555556,\"#d8576b\"],[0.6666666666666666,\"#ed7953\"],[0.7777777777777778,\"#fb9f3a\"],[0.8888888888888888,\"#fdca26\"],[1.0,\"#f0f921\"]]}],\"choropleth\":[{\"type\":\"choropleth\",\"colorbar\":{\"outlinewidth\":0,\"ticks\":\"\"}}],\"histogram2d\":[{\"type\":\"histogram2d\",\"colorbar\":{\"outlinewidth\":0,\"ticks\":\"\"},\"colorscale\":[[0.0,\"#0d0887\"],[0.1111111111111111,\"#46039f\"],[0.2222222222222222,\"#7201a8\"],[0.3333333333333333,\"#9c179e\"],[0.4444444444444444,\"#bd3786\"],[0.5555555555555556,\"#d8576b\"],[0.6666666666666666,\"#ed7953\"],[0.7777777777777778,\"#fb9f3a\"],[0.8888888888888888,\"#fdca26\"],[1.0,\"#f0f921\"]]}],\"heatmap\":[{\"type\":\"heatmap\",\"colorbar\":{\"outlinewidth\":0,\"ticks\":\"\"},\"colorscale\":[[0.0,\"#0d0887\"],[0.1111111111111111,\"#46039f\"],[0.2222222222222222,\"#7201a8\"],[0.3333333333333333,\"#9c179e\"],[0.4444444444444444,\"#bd3786\"],[0.5555555555555556,\"#d8576b\"],[0.6666666666666666,\"#ed7953\"],[0.7777777777777778,\"#fb9f3a\"],[0.8888888888888888,\"#fdca26\"],[1.0,\"#f0f921\"]]}],\"heatmapgl\":[{\"type\":\"heatmapgl\",\"colorbar\":{\"outlinewidth\":0,\"ticks\":\"\"},\"colorscale\":[[0.0,\"#0d0887\"],[0.1111111111111111,\"#46039f\"],[0.2222222222222222,\"#7201a8\"],[0.3333333333333333,\"#9c179e\"],[0.4444444444444444,\"#bd3786\"],[0.5555555555555556,\"#d8576b\"],[0.6666666666666666,\"#ed7953\"],[0.7777777777777778,\"#fb9f3a\"],[0.8888888888888888,\"#fdca26\"],[1.0,\"#f0f921\"]]}],\"contourcarpet\":[{\"type\":\"contourcarpet\",\"colorbar\":{\"outlinewidth\":0,\"ticks\":\"\"}}],\"contour\":[{\"type\":\"contour\",\"colorbar\":{\"outlinewidth\":0,\"ticks\":\"\"},\"colorscale\":[[0.0,\"#0d0887\"],[0.1111111111111111,\"#46039f\"],[0.2222222222222222,\"#7201a8\"],[0.3333333333333333,\"#9c179e\"],[0.4444444444444444,\"#bd3786\"],[0.5555555555555556,\"#d8576b\"],[0.6666666666666666,\"#ed7953\"],[0.7777777777777778,\"#fb9f3a\"],[0.8888888888888888,\"#fdca26\"],[1.0,\"#f0f921\"]]}],\"surface\":[{\"type\":\"surface\",\"colorbar\":{\"outlinewidth\":0,\"ticks\":\"\"},\"colorscale\":[[0.0,\"#0d0887\"],[0.1111111111111111,\"#46039f\"],[0.2222222222222222,\"#7201a8\"],[0.3333333333333333,\"#9c179e\"],[0.4444444444444444,\"#bd3786\"],[0.5555555555555556,\"#d8576b\"],[0.6666666666666666,\"#ed7953\"],[0.7777777777777778,\"#fb9f3a\"],[0.8888888888888888,\"#fdca26\"],[1.0,\"#f0f921\"]]}],\"mesh3d\":[{\"type\":\"mesh3d\",\"colorbar\":{\"outlinewidth\":0,\"ticks\":\"\"}}],\"scatter\":[{\"fillpattern\":{\"fillmode\":\"overlay\",\"size\":10,\"solidity\":0.2},\"type\":\"scatter\"}],\"parcoords\":[{\"type\":\"parcoords\",\"line\":{\"colorbar\":{\"outlinewidth\":0,\"ticks\":\"\"}}}],\"scatterpolargl\":[{\"type\":\"scatterpolargl\",\"marker\":{\"colorbar\":{\"outlinewidth\":0,\"ticks\":\"\"}}}],\"bar\":[{\"error_x\":{\"color\":\"#2a3f5f\"},\"error_y\":{\"color\":\"#2a3f5f\"},\"marker\":{\"line\":{\"color\":\"#E5ECF6\",\"width\":0.5},\"pattern\":{\"fillmode\":\"overlay\",\"size\":10,\"solidity\":0.2}},\"type\":\"bar\"}],\"scattergeo\":[{\"type\":\"scattergeo\",\"marker\":{\"colorbar\":{\"outlinewidth\":0,\"ticks\":\"\"}}}],\"scatterpolar\":[{\"type\":\"scatterpolar\",\"marker\":{\"colorbar\":{\"outlinewidth\":0,\"ticks\":\"\"}}}],\"histogram\":[{\"marker\":{\"pattern\":{\"fillmode\":\"overlay\",\"size\":10,\"solidity\":0.2}},\"type\":\"histogram\"}],\"scattergl\":[{\"type\":\"scattergl\",\"marker\":{\"colorbar\":{\"outlinewidth\":0,\"ticks\":\"\"}}}],\"scatter3d\":[{\"type\":\"scatter3d\",\"line\":{\"colorbar\":{\"outlinewidth\":0,\"ticks\":\"\"}},\"marker\":{\"colorbar\":{\"outlinewidth\":0,\"ticks\":\"\"}}}],\"scattermapbox\":[{\"type\":\"scattermapbox\",\"marker\":{\"colorbar\":{\"outlinewidth\":0,\"ticks\":\"\"}}}],\"scatterternary\":[{\"type\":\"scatterternary\",\"marker\":{\"colorbar\":{\"outlinewidth\":0,\"ticks\":\"\"}}}],\"scattercarpet\":[{\"type\":\"scattercarpet\",\"marker\":{\"colorbar\":{\"outlinewidth\":0,\"ticks\":\"\"}}}],\"carpet\":[{\"aaxis\":{\"endlinecolor\":\"#2a3f5f\",\"gridcolor\":\"white\",\"linecolor\":\"white\",\"minorgridcolor\":\"white\",\"startlinecolor\":\"#2a3f5f\"},\"baxis\":{\"endlinecolor\":\"#2a3f5f\",\"gridcolor\":\"white\",\"linecolor\":\"white\",\"minorgridcolor\":\"white\",\"startlinecolor\":\"#2a3f5f\"},\"type\":\"carpet\"}],\"table\":[{\"cells\":{\"fill\":{\"color\":\"#EBF0F8\"},\"line\":{\"color\":\"white\"}},\"header\":{\"fill\":{\"color\":\"#C8D4E3\"},\"line\":{\"color\":\"white\"}},\"type\":\"table\"}],\"barpolar\":[{\"marker\":{\"line\":{\"color\":\"#E5ECF6\",\"width\":0.5},\"pattern\":{\"fillmode\":\"overlay\",\"size\":10,\"solidity\":0.2}},\"type\":\"barpolar\"}],\"pie\":[{\"automargin\":true,\"type\":\"pie\"}]},\"layout\":{\"autotypenumbers\":\"strict\",\"colorway\":[\"#636efa\",\"#EF553B\",\"#00cc96\",\"#ab63fa\",\"#FFA15A\",\"#19d3f3\",\"#FF6692\",\"#B6E880\",\"#FF97FF\",\"#FECB52\"],\"font\":{\"color\":\"#2a3f5f\"},\"hovermode\":\"closest\",\"hoverlabel\":{\"align\":\"left\"},\"paper_bgcolor\":\"white\",\"plot_bgcolor\":\"#E5ECF6\",\"polar\":{\"bgcolor\":\"#E5ECF6\",\"angularaxis\":{\"gridcolor\":\"white\",\"linecolor\":\"white\",\"ticks\":\"\"},\"radialaxis\":{\"gridcolor\":\"white\",\"linecolor\":\"white\",\"ticks\":\"\"}},\"ternary\":{\"bgcolor\":\"#E5ECF6\",\"aaxis\":{\"gridcolor\":\"white\",\"linecolor\":\"white\",\"ticks\":\"\"},\"baxis\":{\"gridcolor\":\"white\",\"linecolor\":\"white\",\"ticks\":\"\"},\"caxis\":{\"gridcolor\":\"white\",\"linecolor\":\"white\",\"ticks\":\"\"}},\"coloraxis\":{\"colorbar\":{\"outlinewidth\":0,\"ticks\":\"\"}},\"colorscale\":{\"sequential\":[[0.0,\"#0d0887\"],[0.1111111111111111,\"#46039f\"],[0.2222222222222222,\"#7201a8\"],[0.3333333333333333,\"#9c179e\"],[0.4444444444444444,\"#bd3786\"],[0.5555555555555556,\"#d8576b\"],[0.6666666666666666,\"#ed7953\"],[0.7777777777777778,\"#fb9f3a\"],[0.8888888888888888,\"#fdca26\"],[1.0,\"#f0f921\"]],\"sequentialminus\":[[0.0,\"#0d0887\"],[0.1111111111111111,\"#46039f\"],[0.2222222222222222,\"#7201a8\"],[0.3333333333333333,\"#9c179e\"],[0.4444444444444444,\"#bd3786\"],[0.5555555555555556,\"#d8576b\"],[0.6666666666666666,\"#ed7953\"],[0.7777777777777778,\"#fb9f3a\"],[0.8888888888888888,\"#fdca26\"],[1.0,\"#f0f921\"]],\"diverging\":[[0,\"#8e0152\"],[0.1,\"#c51b7d\"],[0.2,\"#de77ae\"],[0.3,\"#f1b6da\"],[0.4,\"#fde0ef\"],[0.5,\"#f7f7f7\"],[0.6,\"#e6f5d0\"],[0.7,\"#b8e186\"],[0.8,\"#7fbc41\"],[0.9,\"#4d9221\"],[1,\"#276419\"]]},\"xaxis\":{\"gridcolor\":\"white\",\"linecolor\":\"white\",\"ticks\":\"\",\"title\":{\"standoff\":15},\"zerolinecolor\":\"white\",\"automargin\":true,\"zerolinewidth\":2},\"yaxis\":{\"gridcolor\":\"white\",\"linecolor\":\"white\",\"ticks\":\"\",\"title\":{\"standoff\":15},\"zerolinecolor\":\"white\",\"automargin\":true,\"zerolinewidth\":2},\"scene\":{\"xaxis\":{\"backgroundcolor\":\"#E5ECF6\",\"gridcolor\":\"white\",\"linecolor\":\"white\",\"showbackground\":true,\"ticks\":\"\",\"zerolinecolor\":\"white\",\"gridwidth\":2},\"yaxis\":{\"backgroundcolor\":\"#E5ECF6\",\"gridcolor\":\"white\",\"linecolor\":\"white\",\"showbackground\":true,\"ticks\":\"\",\"zerolinecolor\":\"white\",\"gridwidth\":2},\"zaxis\":{\"backgroundcolor\":\"#E5ECF6\",\"gridcolor\":\"white\",\"linecolor\":\"white\",\"showbackground\":true,\"ticks\":\"\",\"zerolinecolor\":\"white\",\"gridwidth\":2}},\"shapedefaults\":{\"line\":{\"color\":\"#2a3f5f\"}},\"annotationdefaults\":{\"arrowcolor\":\"#2a3f5f\",\"arrowhead\":0,\"arrowwidth\":1},\"geo\":{\"bgcolor\":\"white\",\"landcolor\":\"#E5ECF6\",\"subunitcolor\":\"white\",\"showland\":true,\"showlakes\":true,\"lakecolor\":\"white\"},\"title\":{\"x\":0.05},\"mapbox\":{\"style\":\"light\"}}},\"xaxis\":{\"anchor\":\"y\",\"domain\":[0.0,1.0],\"title\":{\"text\":\"Total Speech Length (Word Count)\"}},\"yaxis\":{\"anchor\":\"x\",\"domain\":[0.0,1.0],\"title\":{\"text\":\"Finance Minister\"}},\"coloraxis\":{\"colorbar\":{\"title\":{\"text\":\"Speech Length (Word Count)\"}},\"colorscale\":[[0.0,\"#440154\"],[0.1111111111111111,\"#482878\"],[0.2222222222222222,\"#3e4989\"],[0.3333333333333333,\"#31688e\"],[0.4444444444444444,\"#26828e\"],[0.5555555555555556,\"#1f9e89\"],[0.6666666666666666,\"#35b779\"],[0.7777777777777778,\"#6ece58\"],[0.8888888888888888,\"#b5de2b\"],[1.0,\"#fde725\"]]},\"legend\":{\"tracegroupgap\":0},\"title\":{\"text\":\"Total Speech Length by Finance Minister\"},\"barmode\":\"relative\",\"height\":600,\"width\":900},                        {\"responsive\": true}                    ).then(function(){\n",
              "                            \n",
              "var gd = document.getElementById('2f669265-2d46-410d-8342-e0fda3f06571');\n",
              "var x = new MutationObserver(function (mutations, observer) {{\n",
              "        var display = window.getComputedStyle(gd).display;\n",
              "        if (!display || display === 'none') {{\n",
              "            console.log([gd, 'removed!']);\n",
              "            Plotly.purge(gd);\n",
              "            observer.disconnect();\n",
              "        }}\n",
              "}});\n",
              "\n",
              "// Listen for the removal of the full notebook cells\n",
              "var notebookContainer = gd.closest('#notebook-container');\n",
              "if (notebookContainer) {{\n",
              "    x.observe(notebookContainer, {childList: true});\n",
              "}}\n",
              "\n",
              "// Listen for the clearing of the current output cell\n",
              "var outputEl = gd.closest('.output');\n",
              "if (outputEl) {{\n",
              "    x.observe(outputEl, {childList: true});\n",
              "}}\n",
              "\n",
              "                        })                };                            </script>        </div>\n",
              "</body>\n",
              "</html>"
            ]
          },
          "metadata": {}
        }
      ]
    },
    {
      "cell_type": "code",
      "source": [
        "%pip install wordcloud"
      ],
      "metadata": {
        "colab": {
          "base_uri": "https://localhost:8080/"
        },
        "id": "q9PnL6gDWfX9",
        "outputId": "df392f22-f677-453f-ed49-45a90f9c80f4"
      },
      "execution_count": 45,
      "outputs": [
        {
          "output_type": "stream",
          "name": "stderr",
          "text": [
            "/usr/local/lib/python3.10/dist-packages/ipykernel/ipkernel.py:283: DeprecationWarning:\n",
            "\n",
            "`should_run_async` will not call `transform_cell` automatically in the future. Please pass the result to `transformed_cell` argument and any exception that happen during thetransform in `preprocessing_exc_tuple` in IPython 7.17 and above.\n",
            "\n"
          ]
        },
        {
          "output_type": "stream",
          "name": "stdout",
          "text": [
            "Requirement already satisfied: wordcloud in /usr/local/lib/python3.10/dist-packages (1.9.3)\n",
            "Requirement already satisfied: numpy>=1.6.1 in /usr/local/lib/python3.10/dist-packages (from wordcloud) (1.26.4)\n",
            "Requirement already satisfied: pillow in /usr/local/lib/python3.10/dist-packages (from wordcloud) (10.4.0)\n",
            "Requirement already satisfied: matplotlib in /usr/local/lib/python3.10/dist-packages (from wordcloud) (3.7.1)\n",
            "Requirement already satisfied: contourpy>=1.0.1 in /usr/local/lib/python3.10/dist-packages (from matplotlib->wordcloud) (1.3.0)\n",
            "Requirement already satisfied: cycler>=0.10 in /usr/local/lib/python3.10/dist-packages (from matplotlib->wordcloud) (0.12.1)\n",
            "Requirement already satisfied: fonttools>=4.22.0 in /usr/local/lib/python3.10/dist-packages (from matplotlib->wordcloud) (4.54.1)\n",
            "Requirement already satisfied: kiwisolver>=1.0.1 in /usr/local/lib/python3.10/dist-packages (from matplotlib->wordcloud) (1.4.7)\n",
            "Requirement already satisfied: packaging>=20.0 in /usr/local/lib/python3.10/dist-packages (from matplotlib->wordcloud) (24.1)\n",
            "Requirement already satisfied: pyparsing>=2.3.1 in /usr/local/lib/python3.10/dist-packages (from matplotlib->wordcloud) (3.1.4)\n",
            "Requirement already satisfied: python-dateutil>=2.7 in /usr/local/lib/python3.10/dist-packages (from matplotlib->wordcloud) (2.8.2)\n",
            "Requirement already satisfied: six>=1.5 in /usr/local/lib/python3.10/dist-packages (from python-dateutil>=2.7->matplotlib->wordcloud) (1.16.0)\n"
          ]
        }
      ]
    },
    {
      "cell_type": "code",
      "source": [
        "from wordcloud import WordCloud\n",
        "\n",
        "# Combine all speeches into one large text\n",
        "all_text = ' '.join(df_grouped['Speech'])\n",
        "\n",
        "# Generate word cloud\n",
        "wordcloud = WordCloud(width=800, height=400, background_color='white').generate(all_text)\n",
        "\n",
        "# Plot the word cloud\n",
        "plt.figure(figsize=(10, 6))\n",
        "plt.imshow(wordcloud, interpolation='bilinear')\n",
        "plt.axis('off')\n",
        "plt.show()"
      ],
      "metadata": {
        "colab": {
          "base_uri": "https://localhost:8080/"
        },
        "id": "O-IgvP1JWiaV",
        "outputId": "1083a58e-61d5-4dd3-cc5e-568569d36a49"
      },
      "execution_count": null,
      "outputs": [
        {
          "output_type": "stream",
          "name": "stderr",
          "text": [
            "/usr/local/lib/python3.10/dist-packages/ipykernel/ipkernel.py:283: DeprecationWarning:\n",
            "\n",
            "`should_run_async` will not call `transform_cell` automatically in the future. Please pass the result to `transformed_cell` argument and any exception that happen during thetransform in `preprocessing_exc_tuple` in IPython 7.17 and above.\n",
            "\n"
          ]
        }
      ]
    },
    {
      "source": [
        "import spacy\n",
        "from spacy import displacy\n",
        "\n",
        "# Load the spaCy language model\n",
        "nlp = spacy.load(\"en_core_web_sm\")\n",
        "\n",
        "# Visualize named entities for the first speech\n",
        "doc = nlp(df_grouped['Speech'][0])\n",
        "displacy.render(doc, style='ent', jupyter=True)"
      ],
      "cell_type": "code",
      "metadata": {
        "collapsed": true,
        "id": "ltKGuFUGuuVJ"
      },
      "execution_count": null,
      "outputs": []
    },
    {
      "cell_type": "code",
      "source": [
        "# Define themes and associated keywords\n",
        "themes = {\n",
        "    'inflation': ['inflation', 'prices', 'cost of living'],\n",
        "    'tax': ['tax', 'taxation', 'income tax', 'corporate tax'],\n",
        "    'growth': ['growth', 'development', 'GDP', 'economy'],\n",
        "    'employment': ['employment', 'jobs', 'unemployment','MSME'],\n",
        "    'budget': ['deficit', 'surplus', 'expenditure'],\n",
        "    'education': ['education', 'schools', 'youth','children'],\n",
        "    'defence': ['defence', 'national', 'security','threat'],\n",
        "}\n"
      ],
      "metadata": {
        "id": "dDnDsblKXYT6",
        "collapsed": true
      },
      "execution_count": null,
      "outputs": []
    },
    {
      "cell_type": "code",
      "source": [
        "import re\n",
        "\n",
        "# Function to count keyword occurrences for a specific theme\n",
        "def count_keywords(speech, keywords):\n",
        "    count = 0\n",
        "    for keyword in keywords:\n",
        "        count += len(re.findall(r'\\b' + re.escape(keyword) + r'\\b', speech.lower()))\n",
        "    return count\n",
        "\n",
        "# Add columns for each theme, counting the occurrences of theme-related words\n",
        "for theme, keywords in themes.items():\n",
        "    df_grouped[theme] = df_grouped['Speech'].apply(lambda x: count_keywords(x, keywords))\n",
        "\n",
        "# Display the dataframe with theme counts\n",
        "df_grouped.head()\n",
        "df_grouped.info()\n",
        "df_grouped.to_csv('speech_with_theme_counts.csv', index=False)\n"
      ],
      "metadata": {
        "id": "oXMaxSgHXZe8"
      },
      "execution_count": null,
      "outputs": []
    },
    {
      "cell_type": "code",
      "source": [
        "import plotly.express as px\n",
        "\n",
        "# Group by Finance Minister and sum the keyword counts for each theme\n",
        "theme_counts_by_minister = df_grouped.groupby('Minister')[list(themes.keys())].sum().reset_index()\n",
        "\n",
        "# Melt the DataFrame to make it long-form for easier plotting\n",
        "theme_counts_melted = theme_counts_by_minister.melt(id_vars='Minister', var_name='Theme', value_name='Count')\n",
        "\n",
        "# Plot the theme mentions using Plotly Express\n",
        "fig = px.bar(theme_counts_melted,\n",
        "             x='Minister',\n",
        "             y='Count',\n",
        "             color='Theme',\n",
        "              color_discrete_sequence=px.colors.qualitative.T10,\n",
        "             title='Theme Mentions by Finance Minister',\n",
        "             labels={'Count': 'Number of Mentions', 'Minister': 'Finance Minister'},\n",
        "             barmode='group',\n",
        "             template='plotly_dark')\n",
        "\n",
        "# Customize layout\n",
        "fig.update_layout(xaxis_title='Finance Minister', yaxis_title='Number of Mentions', height=600, width=1000)\n",
        "fig.show()\n"
      ],
      "metadata": {
        "id": "U3olsOFhXhJF",
        "collapsed": true
      },
      "execution_count": null,
      "outputs": []
    },
    {
      "cell_type": "code",
      "source": [
        "import plotly.express as px\n",
        "\n",
        "# Plot the theme mentions using a stacked bar chart\n",
        "fig = px.bar(theme_counts_melted,\n",
        "             x='Minister',\n",
        "             y='Count',\n",
        "             color='Theme',\n",
        "             title='Comparison of Themes by Finance Minister',\n",
        "             labels={'Count': 'Number of Mentions', 'Name of Finance Minister': 'Finance Minister'},\n",
        "             barmode='stack',\n",
        "             template='plotly_dark') # Use 'stack' to create a stacked bar chart\n",
        "\n",
        "fig.update_layout(xaxis_title='Finance Minister', yaxis_title='Number of Mentions', height=600, width=1000)\n",
        "fig.show()\n"
      ],
      "metadata": {
        "id": "44j0D98eYYJI"
      },
      "execution_count": null,
      "outputs": []
    },
    {
      "cell_type": "code",
      "source": [
        "import plotly.graph_objects as go\n",
        "import numpy as np\n",
        "\n",
        "# Pivot the data to get ministers as rows and themes as columns\n",
        "heatmap_data = theme_counts_by_minister.set_index('Minister')\n",
        "\n",
        "# Create a heatmap\n",
        "fig = go.Figure(data=go.Heatmap(\n",
        "        z=heatmap_data.values,\n",
        "        x=heatmap_data.columns,\n",
        "        y=heatmap_data.index,\n",
        "        colorscale='Viridis'))\n",
        "\n",
        "# Update layout\n",
        "fig.update_layout(title='Heatmap of Theme Mentions by Finance Minister',\n",
        "                  xaxis_title='Themes',\n",
        "                  yaxis_title='Finance Minister',\n",
        "                  template='plotly_dark',\n",
        "                  height=600,\n",
        "                  width=1000)\n",
        "\n",
        "fig.show()\n"
      ],
      "metadata": {
        "id": "ndBDzDJbYmkJ"
      },
      "execution_count": null,
      "outputs": []
    },
    {
      "cell_type": "code",
      "source": [
        "import pandas as pd\n",
        "from gensim.corpora import Dictionary\n",
        "from gensim.models import LdaModel\n",
        "import spacy\n",
        "\n",
        "# Load your dataset\n",
        "df = pd.read_csv('/content/Speech_20years.csv')\n",
        "df['Speech'] = df['Speech'].fillna('')\n",
        "df['Year'] = df['Year'].astype(str).str.split('-').str[0]  # Ensure proper year format\n",
        "\n",
        "# Load spaCy model and preprocess the speeches\n",
        "nlp = spacy.load('en_core_web_sm')\n",
        "\n",
        "# Preprocessing and topic modeling\n",
        "def preprocess(text):\n",
        "    doc = nlp(text.lower())\n",
        "    return [token.lemma_ for token in doc if not token.is_stop and token.is_alpha]\n",
        "\n",
        "df['tokens'] = df['Speech'].apply(preprocess)\n",
        "\n",
        "# Create Gensim dictionary and corpus for LDA\n",
        "dictionary = Dictionary(df['tokens'])\n",
        "corpus = [dictionary.doc2bow(text) for text in df['tokens']]\n",
        "\n",
        "# Train LDA model\n",
        "lda_model = LdaModel(corpus=corpus, num_topics=5, id2word=dictionary, passes=10, random_state=42)\n",
        "\n",
        "# Assign topics to each speech\n",
        "def get_dominant_topic(bow):\n",
        "    return max(lda_model[bow], key=lambda x: x[1])[0]  # Get the most dominant topic\n",
        "\n",
        "df['dominant_topic'] = [get_dominant_topic(bow) for bow in corpus]\n",
        "\n",
        "# Extract organizations using spaCy\n",
        "def extract_orgs(text):\n",
        "    doc = nlp(text)\n",
        "    return [ent.text for ent in doc.ents if ent.label_ == 'ORG']  # Extract organizations\n",
        "\n",
        "df['Organizations'] = df['Speech'].apply(extract_orgs)\n",
        "\n",
        "\n",
        "# Create the source-target data for the Sankey diagram\n",
        "sankey_data = []\n",
        "for index, row in df.iterrows():\n",
        "    for org in row['Organizations']:\n",
        "        sankey_data.append({\n",
        "            'source': row['Minister'],  # Finance Minister\n",
        "            'target': f'Topic {row[\"dominant_topic\"]}',  # Dominant Topic\n",
        "            'final_target': org,  # Organization\n",
        "        })\n"
      ],
      "metadata": {
        "id": "nltZFLXC9U21"
      },
      "execution_count": null,
      "outputs": []
    },
    {
      "cell_type": "code",
      "source": [
        "# Extract organizations using spaCy\n",
        "def extract_orgs(text):\n",
        "    doc = nlp(text)\n",
        "    return [ent.text for ent in doc.ents if ent.label_ == 'ORG']  # Extract organizations\n",
        "\n",
        "df['Organizations'] = df['Speech'].apply(extract_orgs)\n",
        "\n",
        "# Create the source-target data for the Sankey diagram\n",
        "sankey_data = []\n",
        "for index, row in df.iterrows():\n",
        "    for org in row['Organizations']:\n",
        "        sankey_data.append({\n",
        "            'source': row['Minister'],  # Finance Minister\n",
        "            'target': f'Topic {row[\"dominant_topic\"]}',  # Dominant Topic\n",
        "            'final_target': org,  # Organization\n",
        "        })\n",
        "\n",
        "# Convert the sankey data into a DataFrame for easier processing\n",
        "sankey_df = pd.DataFrame(sankey_data)"
      ],
      "metadata": {
        "id": "V2y5xYPnRw0R"
      },
      "execution_count": null,
      "outputs": []
    },
    {
      "cell_type": "code",
      "source": [
        "# Filter only top 10 organizations based on frequency of mentions\n",
        "top_orgs = sankey_df['final_target'].value_counts().nlargest(10).index\n",
        "filtered_sankey_df = sankey_df[sankey_df['final_target'].isin(top_orgs)]"
      ],
      "metadata": {
        "id": "y23dYGQVAeTc"
      },
      "execution_count": null,
      "outputs": []
    },
    {
      "cell_type": "code",
      "source": [
        "import plotly.graph_objects as go\n",
        "\n",
        "# Prepare data for filtered Sankey diagram\n",
        "filtered_all_nodes = list(pd.concat([filtered_sankey_df['source'], filtered_sankey_df['target'], filtered_sankey_df['final_target']]).unique())\n",
        "filtered_node_map = {name: i for i, name in enumerate(filtered_all_nodes)}\n",
        "\n",
        "filtered_sources = [filtered_node_map[src] for src in filtered_sankey_df['source']]\n",
        "filtered_targets = [filtered_node_map[tgt] for tgt in filtered_sankey_df['target']]\n",
        "filtered_final_targets = [filtered_node_map[org] for org in filtered_sankey_df['final_target']]\n",
        "\n",
        "filtered_sources += [filtered_node_map[tgt] for tgt in filtered_sankey_df['target']]\n",
        "filtered_targets += [filtered_node_map[org] for org in filtered_sankey_df['final_target']]\n",
        "\n",
        "filtered_values = [1] * len(filtered_sources)\n",
        "\n",
        "colors = {\n",
        "    'ministers': 'rgba(31, 119, 180, 0.8)',  # blue\n",
        "    'topics': 'rgba(255, 127, 14, 0.8)',     # orange\n",
        "    'organizations': 'rgba(44, 160, 44, 0.8)' # green\n",
        "}\n",
        "\n",
        "node_colors = []\n",
        "for node in filtered_all_nodes:\n",
        "    if node in filtered_sankey_df['source'].values:\n",
        "        node_colors.append(colors['ministers'])  # Finance Ministers\n",
        "    elif node in filtered_sankey_df['target'].values:\n",
        "        node_colors.append(colors['topics'])     # Topics\n",
        "    else:\n",
        "        node_colors.append(colors['organizations'])  # Organizations\n",
        "\n",
        "# Create the Sankey diagram\n",
        "fig = go.Figure(go.Sankey(\n",
        "    node=dict(\n",
        "        pad=15,\n",
        "        thickness=20,\n",
        "        line=dict(color=\"blue\", width=0.5),\n",
        "        label=filtered_all_nodes,\n",
        "        color=node_colors  # Apply the colors\n",
        "    ),\n",
        "    link=dict(\n",
        "        source=filtered_sources,\n",
        "        target=filtered_targets,\n",
        "        value=filtered_values\n",
        "    )\n",
        "))\n",
        "\n",
        "# Update layout with title and apply a vibrant theme\n",
        "fig.update_layout(\n",
        "    title_text=\"Sankey Diagram of Budget Speech Analysis\",\n",
        "    font_size=12,\n",
        "    template=\"plotly\",\n",
        "    paper_bgcolor=\"white\",  # Make the background white for more contrast\n",
        "    plot_bgcolor=\"white\"\n",
        ")\n",
        "\n",
        "# Show the diagram\n",
        "fig.show()"
      ],
      "metadata": {
        "id": "cNCOCe7xAiLA"
      },
      "execution_count": null,
      "outputs": []
    },
    {
      "cell_type": "markdown",
      "source": [
        "# LDA"
      ],
      "metadata": {
        "id": "T_2UHTrN6dqs"
      }
    },
    {
      "cell_type": "code",
      "source": [
        "!pip install pandas spacy gensim pyLDAvis matplotlib\n"
      ],
      "metadata": {
        "collapsed": true,
        "id": "55Sh70Jd6dVk"
      },
      "execution_count": null,
      "outputs": []
    },
    {
      "cell_type": "code",
      "source": [
        "import spacy\n",
        "from gensim.utils import simple_preprocess\n",
        "from gensim.corpora import Dictionary\n",
        "from nltk.corpus import stopwords\n",
        "from gensim.models import LdaModel\n",
        "\n",
        "# Load spaCy model for lemmatization\n",
        "nlp = spacy.load('en_core_web_sm')\n",
        "\n",
        "# Function to preprocess text (tokenization, lemmatization, stopwords removal)\n",
        "def preprocess(text):\n",
        "    doc = nlp(text.lower())\n",
        "    tokens = [token.lemma_ for token in doc if not token.is_stop and token.is_alpha]\n",
        "    return tokens\n",
        "\n",
        "# Define custom stopwords (domain-specific words)\n",
        "custom_stopwords = ['cent', 'crore', 'propose', 'year', 'sector', 'government', 'duty', 'lakh','rate','shall','new','high','provide','rs']\n",
        "\n",
        "# Load the spaCy model and extend its stopwords\n",
        "nlp = spacy.load('en_core_web_sm')\n",
        "for word in custom_stopwords:\n",
        "    nlp.vocab[word].is_stop = True\n",
        "\n",
        "# Apply preprocessing to each speech\n",
        "df_grouped['tokens'] = df_grouped['Speech'].apply(preprocess)\n",
        "\n",
        "# Create a Gensim dictionary and corpus\n",
        "dictionary = Dictionary(df_grouped['tokens'])\n",
        "corpus = [dictionary.doc2bow(text) for text in df_grouped['tokens']]\n",
        "\n",
        "# Display the processed tokens and corpus\n",
        "print(dictionary)\n",
        "print(corpus[:1])  # Display the first document's bag of words\n"
      ],
      "metadata": {
        "id": "JASFb0OA6pGV"
      },
      "execution_count": null,
      "outputs": []
    },
    {
      "cell_type": "code",
      "source": [
        "# Set the number of topics (you can adjust this based on the results)\n",
        "num_topics = 5\n",
        "\n",
        "# Train the LDA model\n",
        "lda_model = LdaModel(corpus=corpus, id2word=dictionary, num_topics=num_topics, passes=10, random_state=42)\n",
        "\n",
        "# Print the topics with words\n",
        "topics = lda_model.print_topics(num_words=5)\n",
        "for topic in topics:\n",
        "    print(topic)"
      ],
      "metadata": {
        "id": "kjEwdrXu69vC"
      },
      "execution_count": null,
      "outputs": []
    },
    {
      "cell_type": "code",
      "source": [
        "import pyLDAvis.gensim_models as gensimvis\n",
        "import pyLDAvis\n",
        "\n",
        "# Prepare the pyLDAvis visualization\n",
        "lda_display = gensimvis.prepare(lda_model, corpus, dictionary, sort_topics=False)\n",
        "\n",
        "# Display the visualization in\n",
        "pyLDAvis.display(lda_display)\n"
      ],
      "metadata": {
        "id": "34offoYC7CDa"
      },
      "execution_count": null,
      "outputs": []
    },
    {
      "cell_type": "markdown",
      "source": [
        "#Sentiment Analysis"
      ],
      "metadata": {
        "id": "ukPff_vbSrfL"
      }
    },
    {
      "cell_type": "markdown",
      "source": [],
      "metadata": {
        "id": "dCvbAsp3alVE"
      }
    },
    {
      "cell_type": "code",
      "source": [
        "!pip install vaderSentiment\n"
      ],
      "metadata": {
        "id": "P3ZLZ2jLSvTS"
      },
      "execution_count": null,
      "outputs": []
    },
    {
      "cell_type": "code",
      "source": [
        "# Load the dataset (replace 'path_to_your_budget_file.csv' with your actual file path)\n",
        "df_senti = pd.read_csv('/content/Speech_20years.csv')\n",
        "\n",
        "# Clean the column names if needed\n",
        "#df_senti.columns = df.columns.str.strip()\n",
        "# Replace NaN values in the 'Speech' column with an empty string\n",
        "df_senti['Speech'] = df['Speech'].fillna('')\n",
        "\n",
        "\n",
        "# Display the first few rows of the dataframe\n",
        "df_senti.head()"
      ],
      "metadata": {
        "id": "vsijKHjqThIh"
      },
      "execution_count": null,
      "outputs": []
    },
    {
      "cell_type": "code",
      "source": [
        "from vaderSentiment.vaderSentiment import SentimentIntensityAnalyzer\n",
        "# Replace NaN values in the 'Speech' column with an empty string\n",
        "df['Speech'] = df['Speech'].fillna('')\n",
        "\n",
        "# Initialize VADER sentiment analyzer\n",
        "analyzer = SentimentIntensityAnalyzer()\n",
        "\n",
        "# Function to calculate sentiment for each speech\n",
        "def get_sentiment(text):\n",
        "    return analyzer.polarity_scores(text)\n",
        "\n",
        "# sentiment analysis to each speech\n",
        "df_senti['Sentiment'] = df['Speech'].apply(lambda speech: get_sentiment(speech))\n",
        "\n",
        "# Split the VADER sentiment into individual columns\n",
        "df_sentiment = df_senti['Sentiment'].apply(pd.Series)\n",
        "\n",
        "# Merge the sentiment scores back into the original dataframe\n",
        "df = pd.concat([df_senti, df_sentiment], axis=1)\n",
        "\n",
        "# Display the updated dataframe with sentiment scores\n",
        "df.head()\n",
        "df.tail()\n",
        "df['Year']\n"
      ],
      "metadata": {
        "id": "6tkI11XvTyKn"
      },
      "execution_count": null,
      "outputs": []
    },
    {
      "cell_type": "code",
      "source": [
        "# Extract the starting year from the 'Year' column\n",
        "df['Year'] = df['Year'].astype(str).str.split('-').str[0]\n",
        "\n",
        "# Convert the 'Year' column to numeric\n",
        "df['Year'] = df['Year'].astype(str).str.split('-').str[0]\n",
        "df['Year'] = pd.to_numeric(df['Year'], errors='coerce')\n",
        "\n"
      ],
      "metadata": {
        "id": "DrfE8RImJvRZ"
      },
      "execution_count": null,
      "outputs": []
    },
    {
      "cell_type": "code",
      "source": [
        "# Calculate the average sentiment score for each year\n",
        "sentiment_over_time = df.groupby('Year')['compound'].mean().reset_index()\n",
        "\n",
        "# Ensure the 'Year' column is sorted numerically\n",
        "sentiment_over_time = sentiment_over_time.sort_values('Year')\n",
        "\n",
        "# Plot the line chart for sentiment over time\n",
        "import plotly.express as px\n",
        "\n",
        "fig = px.line(sentiment_over_time,\n",
        "              x='Year',\n",
        "              y='compound',\n",
        "              title='Sentiment of Budget Speeches Over Time',\n",
        "              labels={'compound': 'Sentiment Score', 'Year': 'Year'},\n",
        "              template='plotly_dark')\n",
        "\n",
        "fig.update_layout(xaxis_title='Year', yaxis_title='Average Sentiment Score')\n",
        "fig.show()\n"
      ],
      "metadata": {
        "id": "4hKtSJTDK1S3"
      },
      "execution_count": null,
      "outputs": []
    },
    {
      "cell_type": "code",
      "source": [
        "# Calculate the average sentiment score for each finance minister\n",
        "sentiment_by_minister = df.groupby('Minister')['compound'].mean().reset_index()\n",
        "\n",
        "fig = px.bar(sentiment_by_minister,\n",
        "             x='Minister',\n",
        "             y='compound',\n",
        "             title='Average Sentiment by Finance Minister',\n",
        "             labels={'compound': 'Sentiment Score', 'Minister': 'Finance Minister'},\n",
        "            template='plotly_dark')\n",
        "\n",
        "fig.update_layout(xaxis_title='Finance Minister', yaxis_title='Average Sentiment Score')\n",
        "fig.show()\n"
      ],
      "metadata": {
        "id": "Wc9plyIXVJCw"
      },
      "execution_count": null,
      "outputs": []
    },
    {
      "cell_type": "markdown",
      "source": [
        "# NER VISULISATION"
      ],
      "metadata": {
        "id": "uYJIwoY0c31q"
      }
    },
    {
      "cell_type": "code",
      "source": [
        "\n",
        "# Load spaCy's English model\n",
        "nlp = spacy.load('en_core_web_sm')\n",
        "\n",
        "# Load your budget speeches dataset\n",
        "df = pd.read_csv('/content/Speech_20years.csv')\n",
        "df['Year'] = df['Year'].astype(str).str.split('-').str[0]\n",
        "df['Speech'] = df['Speech'].fillna('')\n",
        "# Function to extract named entities\n",
        "def extract_entities(text):\n",
        "    doc = nlp(text)\n",
        "    entities = [(ent.text, ent.label_) for ent in doc.ents]  # Extract entity text and label\n",
        "    return entities\n",
        "\n",
        "# Apply the function to extract entities\n",
        "df['Entities'] = df['Speech'].apply(extract_entities)\n",
        "\n",
        "# Create a dataframe of entity mentions per speech\n",
        "entity_data = []\n",
        "for index, row in df.iterrows():\n",
        "    for entity, label in row['Entities']:\n",
        "        entity_data.append({'Year': row['Year'], 'Entity': entity, 'Label': label})\n",
        "\n",
        "entity_df = pd.DataFrame(entity_data)\n"
      ],
      "metadata": {
        "id": "Fy3i-v3Fc9_O"
      },
      "execution_count": null,
      "outputs": []
    },
    {
      "cell_type": "code",
      "source": [
        "# Count the frequency of each entity label over time\n",
        "entity_counts = entity_df.groupby(['Year', 'Label']).size().reset_index(name='Count')\n",
        "\n",
        "# Optional: Filter for the top N most common entity types (e.g., ORG, GPE, DATE)\n",
        "top_entity_labels = entity_counts.groupby('Label')['Count'].sum().nlargest(5).index\n",
        "entity_counts = entity_counts[entity_counts['Label'].isin(top_entity_labels)]\n"
      ],
      "metadata": {
        "id": "_PWXxJN9eLng"
      },
      "execution_count": null,
      "outputs": []
    },
    {
      "cell_type": "code",
      "source": [
        "import plotly.express as px\n",
        "\n",
        "# Create a line chart to show how entity mentions changed over time\n",
        "fig = px.line(entity_counts,\n",
        "              x='Year',\n",
        "              y='Count',\n",
        "              color='Label',\n",
        "              title='Entity Mentions Over Time',\n",
        "              labels={'Count': 'Number of Mentions', 'Year': 'Year', 'Label': 'Entity Type'})\n",
        "\n",
        "# Customize the chart\n",
        "fig.update_layout(\n",
        "    xaxis_title='Year',\n",
        "    yaxis_title='Number of Mentions',\n",
        "    template='plotly_dark',\n",
        "    paper_bgcolor='#2B2B2B',\n",
        "    plot_bgcolor='#2B2B2B',\n",
        "    font_color='white'\n",
        ")\n",
        "\n",
        "fig.show()\n"
      ],
      "metadata": {
        "id": "vxjrhjG0eQCV"
      },
      "execution_count": null,
      "outputs": []
    },
    {
      "cell_type": "code",
      "source": [
        "# Function to extract organizations (ORG) from speeches\n",
        "def extract_orgs(text):\n",
        "    doc = nlp(text)\n",
        "    orgs = [ent.text for ent in doc.ents if ent.label_ == 'ORG']  # Extract only organizations (ORG)\n",
        "    return orgs\n",
        "\n",
        "# Apply the function to extract organizations from each speech\n",
        "df['Organizations'] = df['Speech'].apply(extract_orgs)\n",
        "\n",
        "# Create a dataframe of organization mentions per speech\n",
        "org_data = []\n",
        "for index, row in df.iterrows():\n",
        "    for org in row['Organizations']:\n",
        "        org_data.append({'Year': row['Year'], 'Organization': org})\n",
        "\n",
        "org_df = pd.DataFrame(org_data)\n",
        "\n",
        "# Count the number of times each organization is mentioned per year\n",
        "org_counts = org_df.groupby(['Year', 'Organization']).size().reset_index(name='Count')\n",
        "\n",
        "# Optional: Filter for the top N organizations mentioned most frequently\n",
        "top_orgs = org_counts.groupby('Organization')['Count'].sum().nlargest(10).index\n",
        "org_counts = org_counts[org_counts['Organization'].isin(top_orgs)]\n"
      ],
      "metadata": {
        "id": "6fdQU6W26EbQ"
      },
      "execution_count": null,
      "outputs": []
    },
    {
      "cell_type": "code",
      "source": [
        "import plotly.express as px\n",
        "\n",
        "# Create a bar chart showing how many times each organization is mentioned over time\n",
        "fig = px.bar(org_counts,\n",
        "             x='Year',\n",
        "             y='Count',\n",
        "             color='Organization',\n",
        "             title='Organization Mentions Over Time',\n",
        "             labels={'Count': 'Number of Mentions', 'Year': 'Year', 'Organization': 'Organization'},\n",
        "             barmode='group')\n",
        "\n",
        "# Customize the chart (dark theme)\n",
        "fig.update_layout(\n",
        "    xaxis_title='Year',\n",
        "    yaxis_title='Number of Mentions',\n",
        "    template='plotly_dark',\n",
        "    paper_bgcolor='#2B2B2B',\n",
        "    plot_bgcolor='#2B2B2B',\n",
        "    font_color='white'\n",
        ")\n",
        "\n",
        "fig.show()\n"
      ],
      "metadata": {
        "id": "GCHtwbLz6unK"
      },
      "execution_count": null,
      "outputs": []
    },
    {
      "cell_type": "code",
      "source": [
        "!pip install dash\n",
        "import dash\n",
        "from dash import dcc, html\n",
        "from dash.dependencies import Input, Output\n",
        "\n",
        "# Initialize the Dash app\n",
        "app = dash.Dash(__name__)\n",
        "\n",
        "# Layout for the app\n",
        "app.layout = html.Div(\n",
        "    children=[\n",
        "        html.H1(\"Organization Mentions in Budget Speeches\", style={'textAlign': 'center'}),\n",
        "        dcc.Dropdown(\n",
        "            id='org-dropdown',\n",
        "            options=[{'label': org, 'value': org} for org in org_df['Organization'].unique()],\n",
        "            value=org_df['Organization'].unique()[0],\n",
        "            style={'width': '50%', 'margin': 'auto'}\n",
        "        ),\n",
        "        dcc.Graph(id='org-graph'),\n",
        "    ]\n",
        ")\n",
        "\n",
        "# Callback to update graph based on selected organization\n",
        "@app.callback(\n",
        "    Output('org-graph', 'figure'),\n",
        "    [Input('org-dropdown', 'value')]\n",
        ")\n",
        "def update_graph(selected_org):\n",
        "    filtered_df = org_counts[org_counts['Organization'] == selected_org]\n",
        "\n",
        "    fig = px.bar(filtered_df,\n",
        "                 x='Year',\n",
        "                 y='Count',\n",
        "                 color='Organization',\n",
        "                 title=f'{selected_org} Mentions Over Time',\n",
        "                 labels={'Count': 'Number of Mentions', 'Year': 'Year'},\n",
        "                 barmode='group')\n",
        "\n",
        "    fig.update_layout(template='plotly_dark')\n",
        "    return fig\n",
        "\n",
        "if __name__ == '__main__':\n",
        "    app.run_server(debug=True)\n"
      ],
      "metadata": {
        "id": "9fkGx7e-scCY"
      },
      "execution_count": null,
      "outputs": []
    }
  ]
}